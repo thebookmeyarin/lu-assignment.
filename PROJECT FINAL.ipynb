{
 "cells": [
  {
   "cell_type": "raw",
   "metadata": {},
   "source": [
    " NAME: KATAKAM SHRIYA\n",
    "EMAIL ID : MPSH21102204@GMAIL.COM"
   ]
  },
  {
   "cell_type": "code",
   "execution_count": 1,
   "metadata": {},
   "outputs": [],
   "source": [
    "import pandas as pd\n",
    "import numpy as np\n",
    "import seaborn as sns\n",
    "import matplotlib.pyplot as plt"
   ]
  },
  {
   "cell_type": "markdown",
   "metadata": {},
   "source": [
    "# TASK 1"
   ]
  },
  {
   "cell_type": "code",
   "execution_count": 2,
   "metadata": {},
   "outputs": [
    {
     "name": "stdout",
     "output_type": "stream",
     "text": [
      "                  Id         groupId         matchId  assists  boosts  \\\n",
      "0     2f262dd9795e60  78437bcd91d40e  d5db3a49eb2955        0       0   \n",
      "1     a32847cf5bf34b  85b7ce5a12e10b  65223f05c7fdb4        0       0   \n",
      "2     1b1900a9990396  edf80d6523380a  1cadec4534f30a        0       3   \n",
      "3     f589dd03b60bf2  804ab5e5585558  c4a5676dc91604        0       0   \n",
      "4     c23c4cc5b78b35  b3e2cd169ed920  cd595700a01bfa        0       0   \n",
      "...              ...             ...             ...      ...     ...   \n",
      "9995  ef4f474acd8e85  2eca2a8391f75d  492ecdfae90b46        0       3   \n",
      "9996  cf0bf82fb4d80e  2eaf2765f93adb  14bffd71e96320        0       0   \n",
      "9997  a0a31a0b1dcbe1  8d50c64ccc5071  147e4bbb62e3bb        0       0   \n",
      "9998  f6874657399d69  d31843d7e62ccb  662567dcf280f5        0       0   \n",
      "9999  90359b0b8f8b0d  61d5b1bb8da43f  258bfa48d88014        0       0   \n",
      "\n",
      "      damageDealt  DBNOs  headshotKills  heals  killPlace  ...  revives  \\\n",
      "0             0.0      0              0      0         92  ...        0   \n",
      "1           163.2      1              1      0         42  ...        0   \n",
      "2           278.7      2              1      8         16  ...        3   \n",
      "3           191.9      1              0      0         31  ...        0   \n",
      "4           100.0      1              0      0         87  ...        0   \n",
      "...           ...    ...            ...    ...        ...  ...      ...   \n",
      "9995        204.5      1              0      0         17  ...        3   \n",
      "9996          0.0      0              0      0         49  ...        0   \n",
      "9997          0.0      0              0      0         83  ...        0   \n",
      "9998          0.0      0              0      0         82  ...        0   \n",
      "9999          0.0      0              0      0         78  ...        0   \n",
      "\n",
      "      rideDistance  roadKills  swimDistance  teamKills vehicleDestroys  \\\n",
      "0              0.0          0           0.0          0               0   \n",
      "1              0.0          0           0.0          0               0   \n",
      "2              0.0          0           0.0          0               0   \n",
      "3              0.0          0           0.0          0               0   \n",
      "4              0.0          0           0.0          0               0   \n",
      "...            ...        ...           ...        ...             ...   \n",
      "9995           0.0          0           0.0          0               0   \n",
      "9996           0.0          0           0.0          0               0   \n",
      "9997           0.0          0           0.0          0               0   \n",
      "9998           0.0          0           0.0          0               0   \n",
      "9999           0.0          0           0.0          0               0   \n",
      "\n",
      "      walkDistance  weaponsAcquired  winPoints  winPlacePerc  \n",
      "0             0.00                0       1470        0.0000  \n",
      "1           132.70                2       1531        0.2222  \n",
      "2          3591.00               10          0        0.8571  \n",
      "3           332.70                3          0        0.3462  \n",
      "4           252.70                3       1557        0.0690  \n",
      "...            ...              ...        ...           ...  \n",
      "9995       1648.00                4       1471        0.8333  \n",
      "9996        897.10                6       1500        0.7174  \n",
      "9997        188.20                2       1434        0.2083  \n",
      "9998        108.10                5       1534        0.2449  \n",
      "9999         53.36                1          0        0.1875  \n",
      "\n",
      "[10000 rows x 29 columns]\n"
     ]
    }
   ],
   "source": [
    "df=pd.read_csv(\"PUBG.csv\")\n",
    "print(df)"
   ]
  },
  {
   "cell_type": "markdown",
   "metadata": {},
   "source": [
    "# TASK 2"
   ]
  },
  {
   "cell_type": "code",
   "execution_count": 3,
   "metadata": {},
   "outputs": [
    {
     "name": "stdout",
     "output_type": "stream",
     "text": [
      "Id                  object\n",
      "groupId             object\n",
      "matchId             object\n",
      "assists              int64\n",
      "boosts               int64\n",
      "damageDealt        float64\n",
      "DBNOs                int64\n",
      "headshotKills        int64\n",
      "heals                int64\n",
      "killPlace            int64\n",
      "killPoints           int64\n",
      "kills                int64\n",
      "killStreaks          int64\n",
      "longestKill        float64\n",
      "matchDuration        int64\n",
      "matchType           object\n",
      "maxPlace             int64\n",
      "numGroups            int64\n",
      "rankPoints           int64\n",
      "revives              int64\n",
      "rideDistance       float64\n",
      "roadKills            int64\n",
      "swimDistance       float64\n",
      "teamKills            int64\n",
      "vehicleDestroys      int64\n",
      "walkDistance       float64\n",
      "weaponsAcquired      int64\n",
      "winPoints            int64\n",
      "winPlacePerc       float64\n",
      "dtype: object\n"
     ]
    }
   ],
   "source": [
    "data_type = df.dtypes\n",
    "\n",
    "print(data_type)"
   ]
  },
  {
   "cell_type": "markdown",
   "metadata": {},
   "source": [
    "# TASK 3"
   ]
  },
  {
   "cell_type": "code",
   "execution_count": 4,
   "metadata": {},
   "outputs": [
    {
     "name": "stdout",
     "output_type": "stream",
     "text": [
      "            assists        boosts   damageDealt        DBNOs  headshotKills  \\\n",
      "count  10000.000000  10000.000000  10000.000000  10000.00000   10000.000000   \n",
      "mean       0.234600      1.088500    129.211264      0.64400       0.221700   \n",
      "std        0.575149      1.703279    167.193945      1.09562       0.577046   \n",
      "min        0.000000      0.000000      0.000000      0.00000       0.000000   \n",
      "25%        0.000000      0.000000      0.000000      0.00000       0.000000   \n",
      "50%        0.000000      0.000000     83.805000      0.00000       0.000000   \n",
      "75%        0.000000      2.000000    185.325000      1.00000       0.000000   \n",
      "max        7.000000     18.000000   3469.000000     11.00000      14.000000   \n",
      "\n",
      "              heals     killPlace    killPoints         kills   killStreaks  \\\n",
      "count  10000.000000  10000.000000  10000.000000  10000.000000  10000.000000   \n",
      "mean       1.354000     47.663100    506.970200      0.913400      0.543800   \n",
      "std        2.629102     27.424146    627.297959      1.524117      0.701948   \n",
      "min        0.000000      1.000000      0.000000      0.000000      0.000000   \n",
      "25%        0.000000     24.000000      0.000000      0.000000      0.000000   \n",
      "50%        0.000000     48.000000      0.000000      0.000000      0.000000   \n",
      "75%        2.000000     71.000000   1169.000000      1.000000      1.000000   \n",
      "max       31.000000    100.000000   1926.000000     35.000000      4.000000   \n",
      "\n",
      "       ...       revives  rideDistance     roadKills  swimDistance  \\\n",
      "count  ...  10000.000000  10000.000000  10000.000000  10000.000000   \n",
      "mean   ...      0.160200    600.693584      0.004200      4.385917   \n",
      "std    ...      0.454045   1524.915601      0.074719     30.889620   \n",
      "min    ...      0.000000      0.000000      0.000000      0.000000   \n",
      "25%    ...      0.000000      0.000000      0.000000      0.000000   \n",
      "50%    ...      0.000000      0.000000      0.000000      0.000000   \n",
      "75%    ...      0.000000      0.000575      0.000000      0.000000   \n",
      "max    ...      5.000000  28780.000000      3.000000    971.200000   \n",
      "\n",
      "          teamKills  vehicleDestroys  walkDistance  weaponsAcquired  \\\n",
      "count  10000.000000     10000.000000  10000.000000      10000.00000   \n",
      "mean       0.024400         0.007700   1130.008410          3.63590   \n",
      "std        0.171486         0.089674   1168.597983          2.42209   \n",
      "min        0.000000         0.000000      0.000000          0.00000   \n",
      "25%        0.000000         0.000000    151.575000          2.00000   \n",
      "50%        0.000000         0.000000    650.350000          3.00000   \n",
      "75%        0.000000         0.000000   1923.250000          5.00000   \n",
      "max        3.000000         2.000000  10490.000000         41.00000   \n",
      "\n",
      "        winPoints  winPlacePerc  \n",
      "count  10000.0000  10000.000000  \n",
      "mean     609.3440      0.469926  \n",
      "std      739.7924      0.304508  \n",
      "min        0.0000      0.000000  \n",
      "25%        0.0000      0.200000  \n",
      "50%        0.0000      0.458300  \n",
      "75%     1495.0000      0.735100  \n",
      "max     1863.0000      1.000000  \n",
      "\n",
      "[8 rows x 25 columns]\n"
     ]
    }
   ],
   "source": [
    "summary = df.describe()\n",
    "print(summary)"
   ]
  },
  {
   "cell_type": "markdown",
   "metadata": {},
   "source": [
    "# TASK 4"
   ]
  },
  {
   "cell_type": "code",
   "execution_count": 5,
   "metadata": {},
   "outputs": [
    {
     "name": "stdout",
     "output_type": "stream",
     "text": [
      "0.9134\n"
     ]
    }
   ],
   "source": [
    "average_per_person = df['kills'].mean()\n",
    "print(average_per_person)"
   ]
  },
  {
   "cell_type": "markdown",
   "metadata": {},
   "source": [
    "# TASK 5"
   ]
  },
  {
   "cell_type": "code",
   "execution_count": 11,
   "metadata": {},
   "outputs": [
    {
     "name": "stdout",
     "output_type": "stream",
     "text": [
      "99% of the people have 7.0 kills\n"
     ]
    }
   ],
   "source": [
    "no_of_kills_by_99percent = df['kills'].quantile(0.99)\n",
    "print(\"99% of the people have\", no_of_kills_by_99percent,\"kills\")"
   ]
  },
  {
   "cell_type": "markdown",
   "metadata": {},
   "source": [
    "# TASK 6"
   ]
  },
  {
   "cell_type": "code",
   "execution_count": null,
   "metadata": {},
   "outputs": [],
   "source": [
    "highest_kills = df['kills'].max()\n",
    "print(\"the most kills ever recorded are\", highest_kills)"
   ]
  },
  {
   "cell_type": "markdown",
   "metadata": {},
   "source": [
    "# TASK 7"
   ]
  },
  {
   "cell_type": "code",
   "execution_count": null,
   "metadata": {},
   "outputs": [],
   "source": [
    "df.columns"
   ]
  },
  {
   "cell_type": "markdown",
   "metadata": {},
   "source": [
    "# TASK 8"
   ]
  },
  {
   "cell_type": "code",
   "execution_count": null,
   "metadata": {},
   "outputs": [],
   "source": [
    "sns.distplot(df['matchDuration'])"
   ]
  },
  {
   "cell_type": "raw",
   "metadata": {},
   "source": [
    "the highest duration of match was from 1250 to 1500"
   ]
  },
  {
   "cell_type": "markdown",
   "metadata": {},
   "source": [
    "# TASK 9"
   ]
  },
  {
   "cell_type": "code",
   "execution_count": null,
   "metadata": {},
   "outputs": [],
   "source": [
    "sns.distplot(df['walkDistance'])"
   ]
  },
  {
   "cell_type": "raw",
   "metadata": {},
   "source": [
    "the highest walk distance are from 0 to 200"
   ]
  },
  {
   "cell_type": "markdown",
   "metadata": {},
   "source": [
    "# Task 10"
   ]
  },
  {
   "cell_type": "code",
   "execution_count": null,
   "metadata": {},
   "outputs": [],
   "source": [
    "\n",
    "%matplotlib inline\n",
    "plt.style.use('classic')\n",
    "plt.figure()\n",
    "\n",
    "# ploting for matchDuration\n",
    "plt.subplot(2,1,1)\n",
    "plt.plot(df[\"matchDuration\"],\"-\")\n",
    "plt.xlabel(\"Match Duration\")\n",
    "\n",
    "# ploting for walkDistance\n",
    "plt.subplot(2,1,2)\n",
    "plt.plot(df[\"walkDistance\"],\"--\")\n",
    "plt.xlabel(\"Walk Distance\")"
   ]
  },
  {
   "cell_type": "markdown",
   "metadata": {},
   "source": [
    "# TASK 11"
   ]
  },
  {
   "cell_type": "code",
   "execution_count": null,
   "metadata": {},
   "outputs": [],
   "source": [
    "\n",
    "%matplotlib inline\n",
    "plt.style.use('classic')\n",
    "plt.figure()\n",
    "\n",
    "# ploting for matchDuration\n",
    "plt.subplot(1,2,1)\n",
    "plt.plot(df[\"matchDuration\"],\"-\")\n",
    "plt.xlabel(\"Match Duration\")\n",
    "\n",
    "# ploting for walkDistance\n",
    "plt.subplot(1,2,2)\n",
    "plt.plot(df[\"walkDistance\"],\"--\")\n",
    "plt.xlabel(\"Walk Distance\")"
   ]
  },
  {
   "cell_type": "markdown",
   "metadata": {},
   "source": [
    "# TASK 12"
   ]
  },
  {
   "cell_type": "code",
   "execution_count": null,
   "metadata": {},
   "outputs": [],
   "source": [
    "sns.pairplot(df);"
   ]
  },
  {
   "cell_type": "markdown",
   "metadata": {},
   "source": [
    "# TASK 13"
   ]
  },
  {
   "cell_type": "code",
   "execution_count": null,
   "metadata": {},
   "outputs": [],
   "source": [
    "unique = pd.unique(df['matchType'])\n",
    "print(\"\\n The Unique values in matchType is :\",unique)\n",
    "count_uniques = len(unique)\n",
    "print(\"\\nCount of unique values in matchType is :\",count_uniques)"
   ]
  },
  {
   "cell_type": "markdown",
   "metadata": {},
   "source": [
    "# TASK 14"
   ]
  },
  {
   "cell_type": "code",
   "execution_count": null,
   "metadata": {},
   "outputs": [],
   "source": [
    "sns.barplot(df['matchType'],df['killPoints']);\n",
    "plt.xticks(rotation=70)"
   ]
  },
  {
   "cell_type": "raw",
   "metadata": {},
   "source": [
    " The highest number of kill points earned is in normal duo fpp "
   ]
  },
  {
   "cell_type": "markdown",
   "metadata": {},
   "source": [
    "# TASK 15"
   ]
  },
  {
   "cell_type": "code",
   "execution_count": null,
   "metadata": {},
   "outputs": [],
   "source": [
    "sns.barplot(df['matchType'],df['weaponsAcquired']);\n",
    "plt.xticks(rotation=70)"
   ]
  },
  {
   "cell_type": "raw",
   "metadata": {},
   "source": [
    "the highest number of weapons acquired is during a normal solo fpp and the least in in crash tpp the data is negatively skewed"
   ]
  },
  {
   "cell_type": "markdown",
   "metadata": {},
   "source": [
    "# TASK 16 "
   ]
  },
  {
   "cell_type": "code",
   "execution_count": null,
   "metadata": {},
   "outputs": [],
   "source": [
    "categorical_columns = df.select_dtypes(exclude=['number'])\n",
    "categorical_columns"
   ]
  },
  {
   "cell_type": "markdown",
   "metadata": {},
   "source": [
    "# TASK 17"
   ]
  },
  {
   "cell_type": "code",
   "execution_count": null,
   "metadata": {},
   "outputs": [],
   "source": [
    "sns.boxplot(df['matchType'],df['winPlacePerc']);\n",
    "plt.xticks(rotation=70)"
   ]
  },
  {
   "cell_type": "raw",
   "metadata": {},
   "source": [
    "flaretpp had larger spread of data"
   ]
  },
  {
   "cell_type": "markdown",
   "metadata": {},
   "source": [
    "# TASK 18"
   ]
  },
  {
   "cell_type": "code",
   "execution_count": null,
   "metadata": {},
   "outputs": [],
   "source": [
    "sns.boxplot(df['matchType'],df['matchDuration']);\n",
    "plt.xticks(rotation=70)"
   ]
  },
  {
   "cell_type": "markdown",
   "metadata": {},
   "source": [
    "# TASK 19"
   ]
  },
  {
   "cell_type": "code",
   "execution_count": null,
   "metadata": {},
   "outputs": [],
   "source": [
    "sns.boxplot(df['matchDuration'],df['matchType']);\n",
    "plt.xticks(rotation=70)"
   ]
  },
  {
   "cell_type": "markdown",
   "metadata": {},
   "source": [
    "# TASK 20"
   ]
  },
  {
   "cell_type": "code",
   "execution_count": null,
   "metadata": {},
   "outputs": [],
   "source": [
    "df['KILL'] = df['headshotKills'] + df['teamKills'] + df['roadKills']\n",
    "df['KILL']"
   ]
  },
  {
   "cell_type": "markdown",
   "metadata": {},
   "source": [
    "# TASK 21"
   ]
  },
  {
   "cell_type": "code",
   "execution_count": null,
   "metadata": {},
   "outputs": [],
   "source": [
    "df['winPlacePerc'].round(decimals=2)\n"
   ]
  },
  {
   "cell_type": "markdown",
   "metadata": {},
   "source": [
    "# TASK 22"
   ]
  },
  {
   "cell_type": "code",
   "execution_count": null,
   "metadata": {},
   "outputs": [],
   "source": [
    "mean_list= []\n",
    "\n",
    "for i in range(100):\n",
    "    mean_of_50 = round(df['damageDealt'].sample(50).mean())\n",
    "    mean_list.append( mean_of_50)\n",
    "    \n",
    "print(mean_list)\n",
    "sns.distplot(mean_list)\n"
   ]
  },
  {
   "cell_type": "code",
   "execution_count": null,
   "metadata": {},
   "outputs": [],
   "source": []
  }
 ],
 "metadata": {
  "kernelspec": {
   "display_name": "Python 3",
   "language": "python",
   "name": "python3"
  },
  "language_info": {
   "codemirror_mode": {
    "name": "ipython",
    "version": 3
   },
   "file_extension": ".py",
   "mimetype": "text/x-python",
   "name": "python",
   "nbconvert_exporter": "python",
   "pygments_lexer": "ipython3",
   "version": "3.8.3"
  }
 },
 "nbformat": 4,
 "nbformat_minor": 4
}
